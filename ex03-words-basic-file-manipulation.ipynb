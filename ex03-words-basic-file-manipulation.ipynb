{
 "cells": [
  {
   "cell_type": "code",
   "execution_count": 7,
   "metadata": {},
   "outputs": [],
   "source": [
    "word = open('Prometheus_Unbound.txt','r')"
   ]
  },
  {
   "cell_type": "code",
   "execution_count": 8,
   "metadata": {},
   "outputs": [],
   "source": [
    " import os"
   ]
  },
  {
   "cell_type": "code",
   "execution_count": 9,
   "metadata": {},
   "outputs": [],
   "source": [
    "arr = os.listdir()"
   ]
  },
  {
   "cell_type": "code",
   "execution_count": 10,
   "metadata": {},
   "outputs": [
    {
     "name": "stdout",
     "output_type": "stream",
     "text": [
      "['Untitled1.ipynb', 'LICENSE', 'ex03-words.ipynb', 'ex02-05-dataclasses.py', 'Untitled.ipynb', 'ex02-02-simple-array-processing.ipynb', 'Prometheus_Unbound.txt', 'ex02-05-namedtuples.ipynb', 'ex02-04-python-timeit-efficency-gains.py', 'ex02-03-basic-dict-and-set-operations.ipynb', 'README.md', 'ex02-05-namedtuples-python27-script.py', '.ipynb_checkpoints', 'ex02-04-arrays-dict-syntactic-sugar-plus-efficiency.ipynb', '.git']\n"
     ]
    }
   ],
   "source": [
    "print(arr)"
   ]
  }
 ],
 "metadata": {
  "kernelspec": {
   "display_name": "Python 3",
   "language": "python",
   "name": "python3"
  },
  "language_info": {
   "codemirror_mode": {
    "name": "ipython",
    "version": 3
   },
   "file_extension": ".py",
   "mimetype": "text/x-python",
   "name": "python",
   "nbconvert_exporter": "python",
   "pygments_lexer": "ipython3",
   "version": "3.7.4"
  }
 },
 "nbformat": 4,
 "nbformat_minor": 2
}
